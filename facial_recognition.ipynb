{
  "cells": [
    {
      "cell_type": "markdown",
      "metadata": {
        "id": "view-in-github",
        "colab_type": "text"
      },
      "source": [
        "<a href=\"https://colab.research.google.com/github/kitarp07/Facial-Recognition/blob/master/facial_recognition.ipynb\" target=\"_parent\"><img src=\"https://colab.research.google.com/assets/colab-badge.svg\" alt=\"Open In Colab\"/></a>"
      ]
    },
    {
      "cell_type": "code",
      "execution_count": null,
      "id": "cabb8768-ce61-424c-86d2-886bafaf63d3",
      "metadata": {
        "id": "cabb8768-ce61-424c-86d2-886bafaf63d3"
      },
      "outputs": [],
      "source": [
        "import cv2\n",
        "import os\n",
        "import matplotlib.pyplot as plt\n",
        "import tensorflow as tf"
      ]
    },
    {
      "cell_type": "code",
      "source": [
        "from google.colab import drive\n",
        "drive.mount('/content/drive')"
      ],
      "metadata": {
        "colab": {
          "base_uri": "https://localhost:8080/"
        },
        "id": "VvxgJAZJFMXj",
        "outputId": "92bc6b14-48b6-429f-cb96-f698c0ea9d58"
      },
      "id": "VvxgJAZJFMXj",
      "execution_count": null,
      "outputs": [
        {
          "output_type": "stream",
          "name": "stdout",
          "text": [
            "Mounted at /content/drive\n"
          ]
        }
      ]
    },
    {
      "cell_type": "code",
      "source": [
        "device_name = tf.test.gpu_device_name()\n",
        "if device_name != '/device:GPU:0':\n",
        "  raise SystemError('GPU device not found')\n",
        "print('Found GPU at: {}'.format(device_name))"
      ],
      "metadata": {
        "colab": {
          "base_uri": "https://localhost:8080/"
        },
        "id": "OShkHcSzFM1O",
        "outputId": "8185e297-ec73-4769-e51d-4b408550d2de"
      },
      "id": "OShkHcSzFM1O",
      "execution_count": null,
      "outputs": [
        {
          "output_type": "stream",
          "name": "stdout",
          "text": [
            "Found GPU at: /device:GPU:0\n"
          ]
        }
      ]
    },
    {
      "cell_type": "code",
      "source": [
        "!pip install rarfile\n",
        "\n"
      ],
      "metadata": {
        "colab": {
          "base_uri": "https://localhost:8080/"
        },
        "id": "r_RAnRWNFZGq",
        "outputId": "1db908a2-342d-4ece-e113-f0d9e5f9a237"
      },
      "id": "r_RAnRWNFZGq",
      "execution_count": null,
      "outputs": [
        {
          "output_type": "stream",
          "name": "stdout",
          "text": [
            "Collecting rarfile\n",
            "  Downloading rarfile-4.0-py3-none-any.whl (28 kB)\n",
            "Installing collected packages: rarfile\n",
            "Successfully installed rarfile-4.0\n"
          ]
        }
      ]
    },
    {
      "cell_type": "code",
      "source": [
        "import rarfile\n",
        "# Replace 'aug_images.zip' with the actual name of your zip file\n",
        "with rarfile.RarFile('/content/drive/MyDrive/data.rar', 'r') as rar_ref:\n",
        "    rar_ref.extractall()"
      ],
      "metadata": {
        "id": "nKV8WO2CFiuY"
      },
      "id": "nKV8WO2CFiuY",
      "execution_count": null,
      "outputs": []
    },
    {
      "cell_type": "code",
      "execution_count": null,
      "id": "11ed7e1b-9ba5-4004-a9fa-e8e673c467e4",
      "metadata": {
        "id": "11ed7e1b-9ba5-4004-a9fa-e8e673c467e4"
      },
      "outputs": [],
      "source": [
        "# !tar xf lfw.tgz"
      ]
    },
    {
      "cell_type": "code",
      "execution_count": null,
      "id": "8b2a08e7-8401-4506-ac8c-062ed7093ca8",
      "metadata": {
        "id": "8b2a08e7-8401-4506-ac8c-062ed7093ca8"
      },
      "outputs": [],
      "source": [
        "# for file in os.listdir(os.path.join('C:/Users/DELL/Pictures/Camera Roll/', 'positives')):\n",
        "#     img_filename = file\n",
        "#     img = cv2.imread(os.path.join('C:/Users/DELL/Pictures/Camera Roll/positives', img_filename))\n",
        "#     newpath = os.path.join('data', 'positives', img_filename)\n",
        "#     rescaled_img =  img[200:200+250, 250:250+250, :]\n",
        "#     cv2.imwrite(newpath, rescaled_img)\n",
        "\n"
      ]
    },
    {
      "cell_type": "code",
      "execution_count": null,
      "id": "3f511953-f876-4af0-b6b5-c126ebc8b825",
      "metadata": {
        "id": "3f511953-f876-4af0-b6b5-c126ebc8b825"
      },
      "outputs": [],
      "source": [
        "# for directory in os.listdir('lfw'):\n",
        "#     for file in os.listdir(os.path.join('lfw', directory)):\n",
        "#         ex_path = os.path.join('lfw', directory, file)\n",
        "#         new_path = os.path.join('data', 'negatives', file)\n",
        "#         os.replace(ex_path, new_path)"
      ]
    },
    {
      "cell_type": "code",
      "execution_count": null,
      "id": "1cdade3c-5cab-4335-a462-3c957c024ce1",
      "metadata": {
        "id": "1cdade3c-5cab-4335-a462-3c957c024ce1"
      },
      "outputs": [],
      "source": [
        "anchor = tf.data.Dataset.list_files('/content/data/anchor/*.jpg')\n",
        "positive = tf.data.Dataset.list_files('/content/data/positives/*.jpg')\n",
        "negative = tf.data.Dataset.list_files('/content/data/negatives/*.jpg')\n"
      ]
    },
    {
      "cell_type": "code",
      "execution_count": null,
      "id": "6ef27087-b940-43dc-97e8-01e75733c3f4",
      "metadata": {
        "id": "6ef27087-b940-43dc-97e8-01e75733c3f4"
      },
      "outputs": [],
      "source": [
        "def preprocess_img(file):\n",
        "    # read img and store it as byte string\n",
        "    byte_img = tf.io.read_file(file)\n",
        "    #convert to tensor representing image\n",
        "    img = tf.io.decode_jpeg(byte_img)\n",
        "    img = tf.image.resize(img, (100, 100))\n",
        "    img = img/ 255.0\n",
        "    return img"
      ]
    },
    {
      "cell_type": "code",
      "execution_count": null,
      "id": "833932a0-db9d-4dd4-b9e2-6ff65df8bd92",
      "metadata": {
        "id": "833932a0-db9d-4dd4-b9e2-6ff65df8bd92"
      },
      "outputs": [],
      "source": [
        "# creats 1s and 0s labeL\n",
        "positives = tf.data.Dataset.zip((anchor, positive, tf.data.Dataset.from_tensor_slices(tf.ones(len(anchor)))))\n",
        "negatives = tf.data.Dataset.zip((anchor, negative, tf.data.Dataset.from_tensor_slices(tf.zeros(len(anchor)))))\n",
        "data = positives.concatenate(negatives)"
      ]
    },
    {
      "cell_type": "code",
      "execution_count": null,
      "id": "13a4a861-66a9-4979-9872-ebd27e6dab1b",
      "metadata": {
        "id": "13a4a861-66a9-4979-9872-ebd27e6dab1b"
      },
      "outputs": [],
      "source": [
        "samples = data.as_numpy_iterator()"
      ]
    },
    {
      "cell_type": "code",
      "execution_count": null,
      "id": "e1098e2e-2449-4ce8-824f-6d103dc1c7be",
      "metadata": {
        "id": "e1098e2e-2449-4ce8-824f-6d103dc1c7be"
      },
      "outputs": [],
      "source": [
        "b= samples.next()"
      ]
    },
    {
      "cell_type": "code",
      "execution_count": null,
      "id": "5f22a2fe-9222-48b0-8c11-de4798513027",
      "metadata": {
        "id": "5f22a2fe-9222-48b0-8c11-de4798513027"
      },
      "outputs": [],
      "source": [
        "# preprocess zipped data\n",
        "def preprocess_zipped(anchor, validation ,label):\n",
        "    return(preprocess_img(anchor), preprocess_img(validation), label)\n",
        "\n"
      ]
    },
    {
      "cell_type": "code",
      "execution_count": null,
      "id": "c9df31eb-beb6-42d9-8498-5a2eee6c7206",
      "metadata": {
        "id": "c9df31eb-beb6-42d9-8498-5a2eee6c7206"
      },
      "outputs": [],
      "source": [
        "prep_data = data.map(preprocess_zipped)"
      ]
    },
    {
      "cell_type": "code",
      "execution_count": null,
      "id": "8575ad08-f312-44d1-b4c1-1cb811395949",
      "metadata": {
        "id": "8575ad08-f312-44d1-b4c1-1cb811395949"
      },
      "outputs": [],
      "source": [
        "\n",
        "df = prep_data.cache()\n",
        "df = df.shuffle(buffer_size=1024)"
      ]
    },
    {
      "cell_type": "code",
      "execution_count": null,
      "id": "9b1cd381-0c20-4ac3-9c37-6d51f4738450",
      "metadata": {
        "colab": {
          "base_uri": "https://localhost:8080/"
        },
        "id": "9b1cd381-0c20-4ac3-9c37-6d51f4738450",
        "outputId": "4a030be0-0b17-4f66-8f6e-5b47a7b3ce12"
      },
      "outputs": [
        {
          "output_type": "execute_result",
          "data": {
            "text/plain": [
              "<_ShuffleDataset element_spec=(TensorSpec(shape=(100, 100, None), dtype=tf.float32, name=None), TensorSpec(shape=(100, 100, None), dtype=tf.float32, name=None), TensorSpec(shape=(), dtype=tf.float32, name=None))>"
            ]
          },
          "metadata": {},
          "execution_count": 26
        }
      ],
      "source": [
        "df"
      ]
    },
    {
      "cell_type": "code",
      "execution_count": null,
      "id": "f4bef0c3-2246-4e96-853c-2638889a3931",
      "metadata": {
        "id": "f4bef0c3-2246-4e96-853c-2638889a3931"
      },
      "outputs": [],
      "source": [
        "samples = df.as_numpy_iterator()"
      ]
    },
    {
      "cell_type": "code",
      "execution_count": null,
      "id": "9e0bbe22-4dfa-468d-b66a-6d41a2f19918",
      "metadata": {
        "colab": {
          "base_uri": "https://localhost:8080/"
        },
        "id": "9e0bbe22-4dfa-468d-b66a-6d41a2f19918",
        "outputId": "840e89bd-5d7b-43e4-d96a-9e8fe8e337d5"
      },
      "outputs": [
        {
          "output_type": "execute_result",
          "data": {
            "text/plain": [
              "0.0"
            ]
          },
          "metadata": {},
          "execution_count": 28
        }
      ],
      "source": [
        "samples.next()[2]"
      ]
    },
    {
      "cell_type": "code",
      "execution_count": null,
      "id": "ed78ccc7-fc6d-497b-8ede-5a50e266da00",
      "metadata": {
        "colab": {
          "base_uri": "https://localhost:8080/"
        },
        "id": "ed78ccc7-fc6d-497b-8ede-5a50e266da00",
        "outputId": "d121935e-383f-4b5d-9b24-1b16c46f469b"
      },
      "outputs": [
        {
          "output_type": "execute_result",
          "data": {
            "text/plain": [
              "(408, 286, 122)"
            ]
          },
          "metadata": {},
          "execution_count": 29
        }
      ],
      "source": [
        "round(len(df) * 1), round(len(df) * 0.7), 408-286"
      ]
    },
    {
      "cell_type": "code",
      "execution_count": null,
      "id": "78c40116-3b63-4b85-ae8d-0c30e74c2fe0",
      "metadata": {
        "id": "78c40116-3b63-4b85-ae8d-0c30e74c2fe0"
      },
      "outputs": [],
      "source": [
        "train_data = df.take(286)\n",
        "train_data = train_data.batch(16)\n",
        "train_data = train_data.prefetch(8)"
      ]
    },
    {
      "cell_type": "code",
      "execution_count": null,
      "id": "4f31bda9-c8d0-4843-881e-27cfbcc9fba6",
      "metadata": {
        "id": "4f31bda9-c8d0-4843-881e-27cfbcc9fba6"
      },
      "outputs": [],
      "source": [
        "test_data = df.skip(286)\n",
        "test_data = test_data.take(122)\n",
        "test_data = test_data.batch(16)\n",
        "test_data = test_data.prefetch(8)"
      ]
    },
    {
      "cell_type": "code",
      "execution_count": null,
      "id": "08959a84-31a6-4197-98df-6b6b58776ea8",
      "metadata": {
        "colab": {
          "base_uri": "https://localhost:8080/"
        },
        "id": "08959a84-31a6-4197-98df-6b6b58776ea8",
        "outputId": "2cd40288-8c33-473e-9dcf-a9297b7d52ce"
      },
      "outputs": [
        {
          "output_type": "execute_result",
          "data": {
            "text/plain": [
              "<_PrefetchDataset element_spec=(TensorSpec(shape=(None, 100, 100, None), dtype=tf.float32, name=None), TensorSpec(shape=(None, 100, 100, None), dtype=tf.float32, name=None), TensorSpec(shape=(None,), dtype=tf.float32, name=None))>"
            ]
          },
          "metadata": {},
          "execution_count": 32
        }
      ],
      "source": [
        "test_data"
      ]
    },
    {
      "cell_type": "code",
      "execution_count": null,
      "id": "36be1939-3c91-481f-9f40-bc14b6efb6e1",
      "metadata": {
        "id": "36be1939-3c91-481f-9f40-bc14b6efb6e1"
      },
      "outputs": [],
      "source": [
        "def make_embedding():\n",
        "\n",
        "  inputt = tf.keras.layers.Input(shape=(100,100,3))\n",
        "\n",
        "  conv_1 = tf.keras.layers.Conv2D(64, (10,10), activation='relu')(inputt)\n",
        "\n",
        "  pool_1 = tf.keras.layers.MaxPooling2D(64, (2,2), padding='same')(conv_1)\n",
        "\n",
        "  conv_2 = tf.keras.layers.Conv2D(128, (7,7), activation='relu')(pool_1)\n",
        "\n",
        "  pool_2 = tf.keras.layers.MaxPooling2D(64, (2,2), padding='same')(conv_2)\n",
        "\n",
        "  conv_3 = tf.keras.layers.Conv2D(128, (4,4), activation='relu')(pool_2)\n",
        "\n",
        "  pool_3 = tf.keras.layers.MaxPooling2D(64, (2,2), padding='same')(conv_3)\n",
        "\n",
        "  conv_4 = tf.keras.layers.Conv2D(256, (4,4), activation='relu')(pool_3)\n",
        "\n",
        "  flattened = tf.keras.layers.Flatten()(conv_4)\n",
        "\n",
        "  dense_1 = tf.keras.layers.Dense(4096, activation='sigmoid')(flattened)\n",
        "\n",
        "\n",
        "\n",
        "  return tf.keras.models.Model(inputs=[inputt], outputs=[dense_1], name='embedding')"
      ]
    },
    {
      "cell_type": "code",
      "source": [
        "embedding = make_embedding()"
      ],
      "metadata": {
        "id": "5YxH9rBdQjAK"
      },
      "id": "5YxH9rBdQjAK",
      "execution_count": null,
      "outputs": []
    },
    {
      "cell_type": "code",
      "source": [
        "embedding.summary()"
      ],
      "metadata": {
        "colab": {
          "base_uri": "https://localhost:8080/"
        },
        "id": "d_64mJsMQpo-",
        "outputId": "d0182056-131f-4daa-c01c-35a5915d36bc"
      },
      "id": "d_64mJsMQpo-",
      "execution_count": null,
      "outputs": [
        {
          "output_type": "stream",
          "name": "stdout",
          "text": [
            "Model: \"embedding\"\n",
            "_________________________________________________________________\n",
            " Layer (type)                Output Shape              Param #   \n",
            "=================================================================\n",
            " input_1 (InputLayer)        [(None, 100, 100, 3)]     0         \n",
            "                                                                 \n",
            " conv2d (Conv2D)             (None, 91, 91, 64)        19264     \n",
            "                                                                 \n",
            " max_pooling2d (MaxPooling2D  (None, 46, 46, 64)       0         \n",
            " )                                                               \n",
            "                                                                 \n",
            " conv2d_1 (Conv2D)           (None, 40, 40, 128)       401536    \n",
            "                                                                 \n",
            " max_pooling2d_1 (MaxPooling  (None, 20, 20, 128)      0         \n",
            " 2D)                                                             \n",
            "                                                                 \n",
            " conv2d_2 (Conv2D)           (None, 17, 17, 128)       262272    \n",
            "                                                                 \n",
            " max_pooling2d_2 (MaxPooling  (None, 9, 9, 128)        0         \n",
            " 2D)                                                             \n",
            "                                                                 \n",
            " conv2d_3 (Conv2D)           (None, 6, 6, 256)         524544    \n",
            "                                                                 \n",
            " flatten (Flatten)           (None, 9216)              0         \n",
            "                                                                 \n",
            " dense (Dense)               (None, 4096)              37752832  \n",
            "                                                                 \n",
            "=================================================================\n",
            "Total params: 38,960,448\n",
            "Trainable params: 38,960,448\n",
            "Non-trainable params: 0\n",
            "_________________________________________________________________\n"
          ]
        }
      ]
    },
    {
      "cell_type": "code",
      "source": [
        "class L1Dist(tf.keras.layers.Layer):\n",
        "      def __init__(self, **kwargs):\n",
        "          super().__init__()\n",
        "\n",
        "      def call(self, input_embedding, validation_embedding):\n",
        "          return tf.math.abs(input_embedding - validation_embedding)"
      ],
      "metadata": {
        "id": "NsVBi0XCQqsT"
      },
      "id": "NsVBi0XCQqsT",
      "execution_count": null,
      "outputs": []
    },
    {
      "cell_type": "code",
      "source": [
        "l1 = L1Dist()"
      ],
      "metadata": {
        "id": "GOU4h70wUJnj"
      },
      "id": "GOU4h70wUJnj",
      "execution_count": null,
      "outputs": []
    },
    {
      "cell_type": "code",
      "source": [
        "def make_siamese_model():\n",
        "\n",
        "  anchor_image = tf.keras.layers.Input(shape=(100, 100, 3))\n",
        "\n",
        "  val_image = tf.keras.layers.Input(shape=(100, 100, 3))\n",
        "\n",
        "  siamese_layer = L1Dist()\n",
        "\n",
        "  distances = siamese_layer(embedding(anchor_image), embedding(val_image))\n",
        "\n",
        "  classifier = tf.keras.layers.Dense(1, activation = \"sigmoid\")(distances)\n",
        "\n",
        "  return tf.keras.models.Model(inputs=[anchor_image, val_image], outputs=classifier, name=\"SiameseModel\")\n",
        "\n",
        "\n",
        "\n"
      ],
      "metadata": {
        "id": "vMBpJ-nXUQrj"
      },
      "id": "vMBpJ-nXUQrj",
      "execution_count": null,
      "outputs": []
    },
    {
      "cell_type": "code",
      "source": [
        "class SiameseModel(tf.keras.models.Model):\n",
        "  def __init__(self, siamese_model, **kwargs):\n",
        "    super().__init__(**kwargs)\n",
        "    self.model = siamese_model\n",
        "\n",
        "  def compile(self, opt, class_loss,  **kwargs):\n",
        "        super().compile(**kwargs)\n",
        "        self.c_loss = class_loss\n",
        "\n",
        "        self.opt = opt\n",
        "\n",
        "  def train_step(self, batch, **kwargs):\n",
        "\n",
        "    with tf.GradientTape() as tape:\n",
        "      x = batch[:2]\n",
        "      y = batch[2]\n",
        "\n",
        "      y_pred = self.model(x, training = True)\n",
        "\n",
        "      loss = self.c_loss(y, y_pred)\n",
        "\n",
        "\n",
        "    grad = tape.gradient(loss, self.model.trainable_variables)\n",
        "\n",
        "    opt.apply_gradients(zip(grad, self.model.trainable_variables))\n",
        "\n",
        "    return {\"loss\": loss}\n",
        "\n",
        "  def test_step(self, batch, **kwargs):\n",
        "     x = batch[:2]\n",
        "     y = batch[2]\n",
        "\n",
        "     y_pred = self.model(x, training = False)\n",
        "\n",
        "     loss = self.c_loss(y, y_pred)\n",
        "\n",
        "     return {\"loss\": loss}\n",
        "\n",
        "  def call(self,x, **kwargs):\n",
        "    return self.model(x, **kwargs)\n",
        "\n",
        "\n",
        "\n",
        "\n",
        "\n",
        "\n",
        "\n"
      ],
      "metadata": {
        "id": "-6v4DT4LqCm8"
      },
      "id": "-6v4DT4LqCm8",
      "execution_count": null,
      "outputs": []
    },
    {
      "cell_type": "code",
      "source": [
        "siamese_model = make_siamese_model()"
      ],
      "metadata": {
        "id": "SWutlK8nVwcQ"
      },
      "id": "SWutlK8nVwcQ",
      "execution_count": null,
      "outputs": []
    },
    {
      "cell_type": "code",
      "source": [
        "siamese_model.summary()"
      ],
      "metadata": {
        "colab": {
          "base_uri": "https://localhost:8080/"
        },
        "id": "Rs_8nfOvWIQh",
        "outputId": "7feb85c8-5734-47bf-de36-baafee3caea1"
      },
      "id": "Rs_8nfOvWIQh",
      "execution_count": null,
      "outputs": [
        {
          "output_type": "stream",
          "name": "stdout",
          "text": [
            "Model: \"SiameseModel\"\n",
            "__________________________________________________________________________________________________\n",
            " Layer (type)                   Output Shape         Param #     Connected to                     \n",
            "==================================================================================================\n",
            " input_2 (InputLayer)           [(None, 100, 100, 3  0           []                               \n",
            "                                )]                                                                \n",
            "                                                                                                  \n",
            " input_3 (InputLayer)           [(None, 100, 100, 3  0           []                               \n",
            "                                )]                                                                \n",
            "                                                                                                  \n",
            " embedding (Functional)         (None, 4096)         38960448    ['input_2[0][0]',                \n",
            "                                                                  'input_3[0][0]']                \n",
            "                                                                                                  \n",
            " l1_dist_1 (L1Dist)             (None, 4096)         0           ['embedding[0][0]',              \n",
            "                                                                  'embedding[1][0]']              \n",
            "                                                                                                  \n",
            " dense_1 (Dense)                (None, 1)            4097        ['l1_dist_1[0][0]']              \n",
            "                                                                                                  \n",
            "==================================================================================================\n",
            "Total params: 38,964,545\n",
            "Trainable params: 38,964,545\n",
            "Non-trainable params: 0\n",
            "__________________________________________________________________________________________________\n"
          ]
        }
      ]
    },
    {
      "cell_type": "code",
      "source": [
        "binary_cross_entropy = tf.keras.losses.BinaryCrossentropy()"
      ],
      "metadata": {
        "id": "7k-gYIQ5Wdqe"
      },
      "id": "7k-gYIQ5Wdqe",
      "execution_count": null,
      "outputs": []
    },
    {
      "cell_type": "code",
      "source": [
        "opt = tf.keras.optimizers.Adam(1e-4)"
      ],
      "metadata": {
        "id": "OCBPlYK6Wvzw"
      },
      "id": "OCBPlYK6Wvzw",
      "execution_count": null,
      "outputs": []
    },
    {
      "cell_type": "code",
      "source": [
        "# checkpoint_dir = '/content/drive/MyDrive/training_checkpoint'\n",
        "# checkpoint_prefix = os.path.join(checkpoint_dir,  'ckpt')\n",
        "# checkpoint = tf.train.Checkpoint(opt=opt, siamese_model=siamese_model)"
      ],
      "metadata": {
        "id": "ufszsAXCW4J_"
      },
      "id": "ufszsAXCW4J_",
      "execution_count": null,
      "outputs": []
    },
    {
      "cell_type": "code",
      "source": [
        "@tf.function\n",
        "def train_step(batch):\n",
        "\n",
        "    with tf.GradientTape() as tape:\n",
        "      x = batch[:2]\n",
        "      y = batch[2]\n",
        "\n",
        "      y_pred = siamese_model(x, training = True)\n",
        "\n",
        "      loss = binary_cross_entropy(y, y_pred)\n",
        "\n",
        "\n",
        "    grad = tape.gradient(loss, siamese_model.trainable_variables)\n",
        "\n",
        "    opt.apply_gradients(zip(grad, siamese_model.trainable_variables))\n",
        "\n",
        "    return loss\n",
        "\n"
      ],
      "metadata": {
        "id": "AGtv9VTeYEyb"
      },
      "id": "AGtv9VTeYEyb",
      "execution_count": null,
      "outputs": []
    },
    {
      "cell_type": "code",
      "source": [
        "def train(data, epochss):\n",
        "    for i in range(1, epochss+1):\n",
        "        print('\\n Epoch {}/{}'.format(i, epochss))\n",
        "\n",
        "        progbar = tf.keras.utils.Progbar(len(data))\n",
        "\n",
        "        for idx, batch in enumerate(data):\n",
        "            train_step(batch)\n",
        "            progbar.update(idx+1)\n",
        "\n",
        "\n"
      ],
      "metadata": {
        "id": "cTjPCGztZ8a-"
      },
      "id": "cTjPCGztZ8a-",
      "execution_count": null,
      "outputs": []
    },
    {
      "cell_type": "code",
      "source": [
        "train(train_data, 50)"
      ],
      "metadata": {
        "colab": {
          "base_uri": "https://localhost:8080/"
        },
        "id": "YOnmfqnCa8Ij",
        "outputId": "5f2544c8-bc48-4ba0-8757-a136103f7a28"
      },
      "id": "YOnmfqnCa8Ij",
      "execution_count": null,
      "outputs": [
        {
          "output_type": "stream",
          "name": "stdout",
          "text": [
            "\n",
            " Epoch 1/50\n",
            "18/18 [==============================] - 17s 251ms/step\n",
            "\n",
            " Epoch 2/50\n",
            "18/18 [==============================] - 3s 181ms/step\n",
            "\n",
            " Epoch 3/50\n",
            "18/18 [==============================] - 3s 181ms/step\n",
            "\n",
            " Epoch 4/50\n",
            "18/18 [==============================] - 3s 182ms/step\n",
            "\n",
            " Epoch 5/50\n",
            "18/18 [==============================] - 3s 183ms/step\n",
            "\n",
            " Epoch 6/50\n",
            "18/18 [==============================] - 3s 183ms/step\n",
            "\n",
            " Epoch 7/50\n",
            "18/18 [==============================] - 3s 184ms/step\n",
            "\n",
            " Epoch 8/50\n",
            "18/18 [==============================] - 3s 184ms/step\n",
            "\n",
            " Epoch 9/50\n",
            "18/18 [==============================] - 3s 184ms/step\n",
            "\n",
            " Epoch 10/50\n",
            "18/18 [==============================] - 3s 184ms/step\n",
            "\n",
            " Epoch 11/50\n",
            "18/18 [==============================] - 3s 185ms/step\n",
            "\n",
            " Epoch 12/50\n",
            "18/18 [==============================] - 3s 186ms/step\n",
            "\n",
            " Epoch 13/50\n",
            "18/18 [==============================] - 3s 186ms/step\n",
            "\n",
            " Epoch 14/50\n",
            "18/18 [==============================] - 3s 186ms/step\n",
            "\n",
            " Epoch 15/50\n",
            "18/18 [==============================] - 3s 187ms/step\n",
            "\n",
            " Epoch 16/50\n",
            "18/18 [==============================] - 3s 187ms/step\n",
            "\n",
            " Epoch 17/50\n",
            "18/18 [==============================] - 3s 187ms/step\n",
            "\n",
            " Epoch 18/50\n",
            "18/18 [==============================] - 3s 188ms/step\n",
            "\n",
            " Epoch 19/50\n",
            "18/18 [==============================] - 3s 188ms/step\n",
            "\n",
            " Epoch 20/50\n",
            "18/18 [==============================] - 3s 189ms/step\n",
            "\n",
            " Epoch 21/50\n",
            "18/18 [==============================] - 3s 189ms/step\n",
            "\n",
            " Epoch 22/50\n",
            "18/18 [==============================] - 3s 189ms/step\n",
            "\n",
            " Epoch 23/50\n",
            "18/18 [==============================] - 3s 190ms/step\n",
            "\n",
            " Epoch 24/50\n",
            "18/18 [==============================] - 3s 190ms/step\n",
            "\n",
            " Epoch 25/50\n",
            "18/18 [==============================] - 3s 190ms/step\n",
            "\n",
            " Epoch 26/50\n",
            "18/18 [==============================] - 3s 191ms/step\n",
            "\n",
            " Epoch 27/50\n",
            "18/18 [==============================] - 3s 191ms/step\n",
            "\n",
            " Epoch 28/50\n",
            "18/18 [==============================] - 3s 192ms/step\n",
            "\n",
            " Epoch 29/50\n",
            "18/18 [==============================] - 3s 191ms/step\n",
            "\n",
            " Epoch 30/50\n",
            "18/18 [==============================] - 3s 191ms/step\n",
            "\n",
            " Epoch 31/50\n",
            "18/18 [==============================] - 3s 192ms/step\n",
            "\n",
            " Epoch 32/50\n",
            "18/18 [==============================] - 3s 192ms/step\n",
            "\n",
            " Epoch 33/50\n",
            "18/18 [==============================] - 3s 192ms/step\n",
            "\n",
            " Epoch 34/50\n",
            "18/18 [==============================] - 3s 193ms/step\n",
            "\n",
            " Epoch 35/50\n",
            "18/18 [==============================] - 3s 193ms/step\n",
            "\n",
            " Epoch 36/50\n",
            "18/18 [==============================] - 3s 193ms/step\n",
            "\n",
            " Epoch 37/50\n",
            "18/18 [==============================] - 3s 193ms/step\n",
            "\n",
            " Epoch 38/50\n",
            "18/18 [==============================] - 3s 192ms/step\n",
            "\n",
            " Epoch 39/50\n",
            "18/18 [==============================] - 3s 193ms/step\n",
            "\n",
            " Epoch 40/50\n",
            "18/18 [==============================] - 3s 193ms/step\n",
            "\n",
            " Epoch 41/50\n",
            "18/18 [==============================] - 3s 194ms/step\n",
            "\n",
            " Epoch 42/50\n",
            "18/18 [==============================] - 3s 194ms/step\n",
            "\n",
            " Epoch 43/50\n",
            "18/18 [==============================] - 3s 194ms/step\n",
            "\n",
            " Epoch 44/50\n",
            "18/18 [==============================] - 3s 194ms/step\n",
            "\n",
            " Epoch 45/50\n",
            "18/18 [==============================] - 3s 194ms/step\n",
            "\n",
            " Epoch 46/50\n",
            "18/18 [==============================] - 3s 194ms/step\n",
            "\n",
            " Epoch 47/50\n",
            "18/18 [==============================] - 3s 195ms/step\n",
            "\n",
            " Epoch 48/50\n",
            "18/18 [==============================] - 3s 195ms/step\n",
            "\n",
            " Epoch 49/50\n",
            "18/18 [==============================] - 3s 196ms/step\n",
            "\n",
            " Epoch 50/50\n",
            "18/18 [==============================] - 3s 195ms/step\n"
          ]
        }
      ]
    },
    {
      "cell_type": "code",
      "source": [
        "from tensorflow.keras.metrics import Precision, Recall"
      ],
      "metadata": {
        "id": "P2gwMszibSD6"
      },
      "id": "P2gwMszibSD6",
      "execution_count": null,
      "outputs": []
    },
    {
      "cell_type": "code",
      "source": [
        "test_input, test_val, y_true = test_data.as_numpy_iterator().next()"
      ],
      "metadata": {
        "id": "0pkXlrdK2qlg"
      },
      "id": "0pkXlrdK2qlg",
      "execution_count": null,
      "outputs": []
    },
    {
      "cell_type": "code",
      "source": [
        "y_pred = siamese_model.predict([test_input, test_val])"
      ],
      "metadata": {
        "colab": {
          "base_uri": "https://localhost:8080/"
        },
        "id": "0IP-MOU_2zqj",
        "outputId": "6b82d4a3-64bc-4593-8751-b918ca2fe80a"
      },
      "id": "0IP-MOU_2zqj",
      "execution_count": null,
      "outputs": [
        {
          "output_type": "stream",
          "name": "stdout",
          "text": [
            "1/1 [==============================] - 0s 26ms/step\n"
          ]
        }
      ]
    },
    {
      "cell_type": "code",
      "source": [
        "y_pred"
      ],
      "metadata": {
        "colab": {
          "base_uri": "https://localhost:8080/"
        },
        "id": "Amacp3Of2-yv",
        "outputId": "3219ff6f-ef47-41ff-9ba6-5992f704cb08"
      },
      "id": "Amacp3Of2-yv",
      "execution_count": null,
      "outputs": [
        {
          "output_type": "execute_result",
          "data": {
            "text/plain": [
              "array([[3.6419567e-10],\n",
              "       [1.0000000e+00],\n",
              "       [1.6222147e-07],\n",
              "       [1.0000000e+00],\n",
              "       [4.3734021e-06],\n",
              "       [1.0503346e-05],\n",
              "       [1.4488492e-05],\n",
              "       [9.9998617e-01],\n",
              "       [9.9999964e-01],\n",
              "       [9.9999964e-01],\n",
              "       [1.0000000e+00],\n",
              "       [7.4420717e-07],\n",
              "       [1.0000000e+00],\n",
              "       [9.9990296e-01],\n",
              "       [1.5734327e-09],\n",
              "       [2.2577236e-09]], dtype=float32)"
            ]
          },
          "metadata": {},
          "execution_count": 87
        }
      ]
    },
    {
      "cell_type": "code",
      "source": [
        "[1 if prediction >0.5 else 0 for prediction in y_pred]"
      ],
      "metadata": {
        "colab": {
          "base_uri": "https://localhost:8080/"
        },
        "id": "FryD0qvL3YqO",
        "outputId": "6b80159c-66c2-4ac9-a1f8-2988f14c281e"
      },
      "id": "FryD0qvL3YqO",
      "execution_count": null,
      "outputs": [
        {
          "output_type": "execute_result",
          "data": {
            "text/plain": [
              "[0, 1, 0, 1, 0, 0, 0, 1, 1, 1, 1, 0, 1, 1, 0, 0]"
            ]
          },
          "metadata": {},
          "execution_count": 88
        }
      ]
    },
    {
      "cell_type": "code",
      "source": [
        "res = Recall()\n",
        "\n",
        "p = Precision ()\n",
        "res.update_state(y_true, y_pred)\n",
        "p.update_state(y_true, y_pred)\n",
        "\n",
        "res.result().numpy(), p.result().numpy()"
      ],
      "metadata": {
        "colab": {
          "base_uri": "https://localhost:8080/"
        },
        "id": "rNKA_Ze33qSt",
        "outputId": "764d6ac5-9fa4-4307-db7b-2d57e29ccac8"
      },
      "id": "rNKA_Ze33qSt",
      "execution_count": null,
      "outputs": [
        {
          "output_type": "execute_result",
          "data": {
            "text/plain": [
              "(1.0, 1.0)"
            ]
          },
          "metadata": {},
          "execution_count": 89
        }
      ]
    },
    {
      "cell_type": "code",
      "source": [
        "plt.figure(figsize=(18,8))\n",
        "plt.subplot(1,2,1)\n",
        "plt.imshow(test_input[3])\n",
        "plt.subplot(1,2,2)\n",
        "plt.imshow(test_val[3])\n",
        "plt.show()"
      ],
      "metadata": {
        "colab": {
          "base_uri": "https://localhost:8080/",
          "height": 317
        },
        "id": "ZAGG--BL4FXe",
        "outputId": "5dabe35f-7950-4ceb-a7f4-1998bc931572"
      },
      "id": "ZAGG--BL4FXe",
      "execution_count": null,
      "outputs": [
        {
          "output_type": "display_data",
          "data": {
            "text/plain": [
              "<Figure size 1800x800 with 2 Axes>"
            ],
            "image/png": "[encoded data removed]"
          },
          "metadata": {}
        }
      ]
    },
    {
      "cell_type": "code",
      "source": [
        "siamese_model.save('siamese_model.h5')"
      ],
      "metadata": {
        "colab": {
          "base_uri": "https://localhost:8080/"
        },
        "id": "eRp15rnz4pYB",
        "outputId": "a307a93c-3da7-4723-c0ad-1bf930f0551e"
      },
      "id": "eRp15rnz4pYB",
      "execution_count": null,
      "outputs": [
        {
          "output_type": "stream",
          "name": "stderr",
          "text": [
            "WARNING:tensorflow:Compiled the loaded model, but the compiled metrics have yet to be built. `model.compile_metrics` will be empty until you train or evaluate the model.\n"
          ]
        }
      ]
    },
    {
      "cell_type": "code",
      "source": [
        "load_model = tf.keras.models.load_model('siamese_model.h5', custom_objects={'L1Dist':L1Dist, 'BinaryCrossentropy': tf.keras.losses.BinaryCrossentropy})"
      ],
      "metadata": {
        "colab": {
          "base_uri": "https://localhost:8080/"
        },
        "id": "3UAcoH9R5cj3",
        "outputId": "eb902ab4-db7a-4760-be11-0c61ceb72c05"
      },
      "id": "3UAcoH9R5cj3",
      "execution_count": null,
      "outputs": [
        {
          "output_type": "stream",
          "name": "stderr",
          "text": [
            "WARNING:tensorflow:No training configuration found in the save file, so the model was *not* compiled. Compile it manually.\n"
          ]
        }
      ]
    },
    {
      "cell_type": "code",
      "source": [
        "l = load_model.predict([test_input, test_val])"
      ],
      "metadata": {
        "colab": {
          "base_uri": "https://localhost:8080/"
        },
        "id": "Mkt729kE6dog",
        "outputId": "cc9f02a2-6ae5-4400-e1db-0c301759848f"
      },
      "id": "Mkt729kE6dog",
      "execution_count": null,
      "outputs": [
        {
          "output_type": "stream",
          "name": "stdout",
          "text": [
            "1/1 [==============================] - 0s 31ms/step\n"
          ]
        }
      ]
    },
    {
      "cell_type": "code",
      "source": [
        "[1 if prediction >0.5 else 0 for prediction in l]"
      ],
      "metadata": {
        "colab": {
          "base_uri": "https://localhost:8080/"
        },
        "id": "4SpIooly6l3t",
        "outputId": "253b32c6-435a-44cb-d60e-009d7745b8e0"
      },
      "id": "4SpIooly6l3t",
      "execution_count": null,
      "outputs": [
        {
          "output_type": "execute_result",
          "data": {
            "text/plain": [
              "[0, 1, 0, 1, 0, 0, 0, 1, 1, 1, 1, 0, 1, 1, 0, 0]"
            ]
          },
          "metadata": {},
          "execution_count": 105
        }
      ]
    },
    {
      "cell_type": "code",
      "source": [
        "model_2 = make_siamese_model()"
      ],
      "metadata": {
        "id": "flfxqeHZsIsn"
      },
      "id": "flfxqeHZsIsn",
      "execution_count": null,
      "outputs": []
    },
    {
      "cell_type": "code",
      "source": [
        "model_2.summary()"
      ],
      "metadata": {
        "id": "KRy16zxE6u9q",
        "colab": {
          "base_uri": "https://localhost:8080/"
        },
        "outputId": "a524efdf-ddfb-4c0b-d26c-f1be0689afed"
      },
      "id": "KRy16zxE6u9q",
      "execution_count": null,
      "outputs": [
        {
          "output_type": "stream",
          "name": "stdout",
          "text": [
            "Model: \"SiameseModel\"\n",
            "__________________________________________________________________________________________________\n",
            " Layer (type)                   Output Shape         Param #     Connected to                     \n",
            "==================================================================================================\n",
            " input_2 (InputLayer)           [(None, 100, 100, 3  0           []                               \n",
            "                                )]                                                                \n",
            "                                                                                                  \n",
            " input_3 (InputLayer)           [(None, 100, 100, 3  0           []                               \n",
            "                                )]                                                                \n",
            "                                                                                                  \n",
            " embedding (Functional)         (None, 4096)         38960448    ['input_2[0][0]',                \n",
            "                                                                  'input_3[0][0]']                \n",
            "                                                                                                  \n",
            " l1_dist_1 (L1Dist)             (None, 4096)         0           ['embedding[0][0]',              \n",
            "                                                                  'embedding[1][0]']              \n",
            "                                                                                                  \n",
            " dense_1 (Dense)                (None, 1)            4097        ['l1_dist_1[0][0]']              \n",
            "                                                                                                  \n",
            "==================================================================================================\n",
            "Total params: 38,964,545\n",
            "Trainable params: 38,964,545\n",
            "Non-trainable params: 0\n",
            "__________________________________________________________________________________________________\n"
          ]
        }
      ]
    },
    {
      "cell_type": "code",
      "source": [
        "model_2_via_class = SiameseModel(model_2)\n"
      ],
      "metadata": {
        "id": "zAv5J1LWsNCe"
      },
      "id": "zAv5J1LWsNCe",
      "execution_count": null,
      "outputs": []
    },
    {
      "cell_type": "code",
      "source": [
        "model_2_via_class.compile(opt, binary_cross_entropy)"
      ],
      "metadata": {
        "id": "61Q5XLHisYRe"
      },
      "id": "61Q5XLHisYRe",
      "execution_count": null,
      "outputs": []
    },
    {
      "cell_type": "code",
      "source": [
        "history = model_2_via_class.fit(train_data, epochs=50)"
      ],
      "metadata": {
        "colab": {
          "base_uri": "https://localhost:8080/"
        },
        "id": "9c8N627FsuHF",
        "outputId": "321ba7ed-dd91-4eee-bb4f-1149268681f5"
      },
      "id": "9c8N627FsuHF",
      "execution_count": null,
      "outputs": [
        {
          "output_type": "stream",
          "name": "stdout",
          "text": [
            "Epoch 1/50\n",
            "18/18 [==============================] - 18s 243ms/step - loss: 0.5936\n",
            "Epoch 2/50\n",
            "18/18 [==============================] - 4s 204ms/step - loss: 0.2349\n",
            "Epoch 3/50\n",
            "18/18 [==============================] - 4s 203ms/step - loss: 0.0396\n",
            "Epoch 4/50\n",
            "18/18 [==============================] - 4s 204ms/step - loss: 0.0037\n",
            "Epoch 5/50\n",
            "18/18 [==============================] - 4s 207ms/step - loss: 5.8916e-04\n",
            "Epoch 6/50\n",
            "18/18 [==============================] - 4s 206ms/step - loss: 3.8848e-04\n",
            "Epoch 7/50\n",
            "18/18 [==============================] - 4s 207ms/step - loss: 2.2176e-04\n",
            "Epoch 8/50\n",
            "18/18 [==============================] - 4s 208ms/step - loss: 1.3254e-04\n",
            "Epoch 9/50\n",
            "18/18 [==============================] - 4s 207ms/step - loss: 1.2299e-04\n",
            "Epoch 10/50\n",
            "18/18 [==============================] - 4s 206ms/step - loss: 1.0334e-04\n",
            "Epoch 11/50\n",
            "18/18 [==============================] - 4s 207ms/step - loss: 8.8975e-05\n",
            "Epoch 12/50\n",
            "18/18 [==============================] - 4s 205ms/step - loss: 7.3178e-05\n",
            "Epoch 13/50\n",
            "18/18 [==============================] - 4s 206ms/step - loss: 5.5331e-05\n",
            "Epoch 14/50\n",
            "18/18 [==============================] - 4s 206ms/step - loss: 4.9482e-05\n",
            "Epoch 15/50\n",
            "18/18 [==============================] - 4s 203ms/step - loss: 4.4409e-05\n",
            "Epoch 16/50\n",
            "18/18 [==============================] - 4s 203ms/step - loss: 4.4856e-05\n",
            "Epoch 17/50\n",
            "18/18 [==============================] - 4s 204ms/step - loss: 3.7551e-05\n",
            "Epoch 18/50\n",
            "18/18 [==============================] - 4s 202ms/step - loss: 2.3136e-05\n",
            "Epoch 19/50\n",
            "18/18 [==============================] - 4s 203ms/step - loss: 2.6057e-05\n",
            "Epoch 20/50\n",
            "18/18 [==============================] - 4s 204ms/step - loss: 2.2488e-05\n",
            "Epoch 21/50\n",
            "18/18 [==============================] - 4s 204ms/step - loss: 1.9544e-05\n",
            "Epoch 22/50\n",
            "18/18 [==============================] - 4s 203ms/step - loss: 1.2154e-05\n",
            "Epoch 23/50\n",
            "18/18 [==============================] - 4s 205ms/step - loss: 1.5432e-05\n",
            "Epoch 24/50\n",
            "18/18 [==============================] - 4s 204ms/step - loss: 1.8372e-05\n",
            "Epoch 25/50\n",
            "18/18 [==============================] - 4s 205ms/step - loss: 1.4629e-05\n",
            "Epoch 26/50\n",
            "18/18 [==============================] - 4s 206ms/step - loss: 1.0083e-05\n",
            "Epoch 27/50\n",
            "18/18 [==============================] - 4s 205ms/step - loss: 9.4692e-06\n",
            "Epoch 28/50\n",
            "18/18 [==============================] - 4s 205ms/step - loss: 1.1449e-05\n",
            "Epoch 29/50\n",
            "18/18 [==============================] - 4s 205ms/step - loss: 7.5312e-06\n",
            "Epoch 30/50\n",
            "18/18 [==============================] - 4s 210ms/step - loss: 7.1136e-06\n",
            "Epoch 31/50\n",
            "18/18 [==============================] - 4s 207ms/step - loss: 7.7596e-06\n",
            "Epoch 32/50\n",
            "18/18 [==============================] - 4s 213ms/step - loss: 5.1992e-06\n",
            "Epoch 33/50\n",
            "18/18 [==============================] - 4s 217ms/step - loss: 4.3418e-06\n",
            "Epoch 34/50\n",
            "18/18 [==============================] - 4s 210ms/step - loss: 4.8445e-06\n",
            "Epoch 35/50\n",
            "18/18 [==============================] - 4s 205ms/step - loss: 5.9044e-06\n",
            "Epoch 36/50\n",
            "18/18 [==============================] - 4s 204ms/step - loss: 3.4576e-06\n",
            "Epoch 37/50\n",
            "18/18 [==============================] - 4s 202ms/step - loss: 4.4992e-06\n",
            "Epoch 38/50\n",
            "18/18 [==============================] - 4s 203ms/step - loss: 2.7840e-06\n",
            "Epoch 39/50\n",
            "18/18 [==============================] - 4s 204ms/step - loss: 3.5762e-06\n",
            "Epoch 40/50\n",
            "18/18 [==============================] - 4s 205ms/step - loss: 2.4762e-06\n",
            "Epoch 41/50\n",
            "18/18 [==============================] - 4s 204ms/step - loss: 3.5471e-06\n",
            "Epoch 42/50\n",
            "18/18 [==============================] - 4s 204ms/step - loss: 1.7541e-06\n",
            "Epoch 43/50\n",
            "18/18 [==============================] - 4s 206ms/step - loss: 2.0773e-06\n",
            "Epoch 44/50\n",
            "18/18 [==============================] - 4s 203ms/step - loss: 2.5146e-06\n",
            "Epoch 45/50\n",
            "18/18 [==============================] - 4s 204ms/step - loss: 2.4571e-06\n",
            "Epoch 46/50\n",
            "18/18 [==============================] - 4s 206ms/step - loss: 1.8218e-06\n",
            "Epoch 47/50\n",
            "18/18 [==============================] - 4s 203ms/step - loss: 2.4294e-06\n",
            "Epoch 48/50\n",
            "18/18 [==============================] - 4s 203ms/step - loss: 1.8761e-06\n",
            "Epoch 49/50\n",
            "18/18 [==============================] - 4s 205ms/step - loss: 1.8824e-06\n",
            "Epoch 50/50\n",
            "18/18 [==============================] - 4s 203ms/step - loss: 1.5443e-06\n"
          ]
        }
      ]
    },
    {
      "cell_type": "code",
      "source": [
        "model_2_via_class.evaluate(test_data)"
      ],
      "metadata": {
        "colab": {
          "base_uri": "https://localhost:8080/"
        },
        "id": "gZXy7ITIs8E5",
        "outputId": "74c2458f-b911-4f66-cce6-c5da9d8651ad"
      },
      "id": "gZXy7ITIs8E5",
      "execution_count": null,
      "outputs": [
        {
          "output_type": "stream",
          "name": "stderr",
          "text": [
            "WARNING:tensorflow:`evaluate()` received a value for `sample_weight`, but `weighted_metrics` were not provided.  Did you mean to pass metrics to `weighted_metrics` in `compile()`?  If this is intentional you can pass `weighted_metrics=[]` to `compile()` in order to silence this warning.\n"
          ]
        },
        {
          "output_type": "stream",
          "name": "stdout",
          "text": [
            "8/8 [==============================] - 1s 130ms/step - loss: 2.2078e-06\n"
          ]
        },
        {
          "output_type": "execute_result",
          "data": {
            "text/plain": [
              "3.4809702356142225e-06"
            ]
          },
          "metadata": {},
          "execution_count": 55
        }
      ]
    },
    {
      "cell_type": "code",
      "source": [],
      "metadata": {
        "id": "s31BqatIuMTa"
      },
      "id": "s31BqatIuMTa",
      "execution_count": null,
      "outputs": []
    }
  ],
  "metadata": {
    "kernelspec": {
      "display_name": "Python 3",
      "name": "python3"
    },
    "language_info": {
      "codemirror_mode": {
        "name": "ipython",
        "version": 3
      },
      "file_extension": ".py",
      "mimetype": "text/x-python",
      "name": "python",
      "nbconvert_exporter": "python",
      "pygments_lexer": "ipython3",
      "version": "3.10.9"
    },
    "colab": {
      "provenance": [],
      "gpuType": "T4",
      "include_colab_link": true
    },
    "accelerator": "GPU"
  },
  "nbformat": 4,
  "nbformat_minor": 5
}